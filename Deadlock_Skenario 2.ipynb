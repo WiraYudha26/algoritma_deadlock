{
 "cells": [
  {
   "cell_type": "markdown",
   "id": "4cef286f",
   "metadata": {},
   "source": [
    "# Algoritma Banker"
   ]
  },
  {
   "cell_type": "code",
   "execution_count": 1,
   "id": "d472e421",
   "metadata": {},
   "outputs": [],
   "source": [
    "import threading\n",
    "import time\n",
    "import random"
   ]
  },
  {
   "cell_type": "code",
   "execution_count": 2,
   "id": "0753c912",
   "metadata": {},
   "outputs": [],
   "source": [
    "class ResourceManager:\n",
    "    def __init__(self, total_resources):\n",
    "        self.total_resources = total_resources\n",
    "        self.available_resources = total_resources\n",
    "        self.lock = threading.Lock()\n",
    "\n",
    "    def request_resources(self, process_id, request):\n",
    "        with self.lock:\n",
    "            if all(request[i] <= self.available_resources[i] for i in range(len(request))):\n",
    "                self.available_resources = [self.available_resources[i] - request[i] for i in range(len(request))]\n",
    "                return True\n",
    "            else:\n",
    "                print(f\"Process {process_id} waiting for resources...\")\n",
    "                return False\n",
    "\n",
    "    def release_resources(self, release):\n",
    "        with self.lock:\n",
    "            self.available_resources = [self.available_resources[i] + release[i] for i in range(len(release))]"
   ]
  },
  {
   "cell_type": "code",
   "execution_count": 3,
   "id": "5ea64585",
   "metadata": {},
   "outputs": [],
   "source": [
    "def process(resource_manager, process_id, max_claim, num_iterations):\n",
    "    for _ in range(num_iterations):\n",
    "        request = [random.randint(0, max_claim[i]) for i in range(len(max_claim))]\n",
    "        print(f\"Process {process_id} requesting resources: {request}\")\n",
    "        if resource_manager.request_resources(process_id, request):\n",
    "            print(f\"Process {process_id} got resources, performing task...\")\n",
    "            time.sleep(random.random())  # Simulate task execution\n",
    "            release = [random.randint(0, request[i]) for i in range(len(request))]\n",
    "            print(f\"Process {process_id} releasing resources: {release}\")\n",
    "            resource_manager.release_resources(release)\n",
    "        else:\n",
    "            time.sleep(random.random())  # Simulate waiting"
   ]
  },
  {
   "cell_type": "code",
   "execution_count": 4,
   "id": "40779434",
   "metadata": {},
   "outputs": [],
   "source": [
    "total_resources = [10, 5, 7]  # Example: 3 types of resources with 10, 5, and 7 units respectively\n",
    "max_claim = [[7, 3, 5], [3, 2, 2], [4, 5, 6]]  # Maximum resource claims for three processes"
   ]
  },
  {
   "cell_type": "code",
   "execution_count": 5,
   "id": "b2496780",
   "metadata": {},
   "outputs": [],
   "source": [
    "resource_manager = ResourceManager(total_resources)"
   ]
  },
  {
   "cell_type": "code",
   "execution_count": 6,
   "id": "6f40e617",
   "metadata": {},
   "outputs": [],
   "source": [
    "# Create threads for each process\n",
    "process_threads = []\n",
    "for i in range(len(max_claim)):\n",
    "    thread = threading.Thread(target=process, args=(resource_manager, i, max_claim[i], 5))  # 5 iterations per process\n",
    "    process_threads.append(thread)"
   ]
  },
  {
   "cell_type": "code",
   "execution_count": 7,
   "id": "c757f56a",
   "metadata": {},
   "outputs": [
    {
     "name": "stdout",
     "output_type": "stream",
     "text": [
      "Process 0 requesting resources: [0, 3, 4]\n",
      "Process 0 got resources, performing task...\n",
      "Process 1 requesting resources: [3, 2, 2]\n",
      "Process 1 got resources, performing task...\n",
      "Process 2 requesting resources: [1, 0, 5]\n",
      "Process 2 waiting for resources...\n",
      "Process 1 releasing resources: [0, 2, 0]\n",
      "Process 1 requesting resources: [2, 2, 0]\n",
      "Process 1 got resources, performing task...\n",
      "Process 2 requesting resources: [0, 4, 1]\n",
      "Process 2 waiting for resources...\n",
      "Process 0 releasing resources: [0, 3, 0]\n",
      "Process 0 requesting resources: [3, 3, 3]\n",
      "Process 0 waiting for resources...\n",
      "Process 1 releasing resources: [2, 2, 0]\n",
      "Process 1 requesting resources: [2, 2, 0]\n",
      "Process 1 got resources, performing task...\n",
      "Process 1 releasing resources: [2, 2, 0]\n",
      "Process 1 requesting resources: [0, 1, 2]\n",
      "Process 1 waiting for resources...\n",
      "Process 2 requesting resources: [3, 2, 2]\n",
      "Process 2 waiting for resources...\n",
      "Process 0 requesting resources: [6, 0, 3]\n",
      "Process 0 waiting for resources...\n",
      "Process 1 requesting resources: [1, 1, 1]\n",
      "Process 1 got resources, performing task...\n",
      "Process 2 requesting resources: [4, 4, 5]\n",
      "Process 2 waiting for resources...\n",
      "Process 2 requesting resources: [2, 1, 2]\n",
      "Process 2 waiting for resources...\n",
      "Process 0 requesting resources: [2, 3, 3]\n",
      "Process 0 waiting for resources...\n",
      "Process 0 requesting resources: [4, 3, 4]\n",
      "Process 0 waiting for resources...\n",
      "Process 1 releasing resources: [1, 0, 1]\n"
     ]
    }
   ],
   "source": [
    "# Start threads\n",
    "for thread in process_threads:\n",
    "    thread.start()"
   ]
  },
  {
   "cell_type": "code",
   "execution_count": 8,
   "id": "2ecf98c7",
   "metadata": {},
   "outputs": [
    {
     "name": "stdout",
     "output_type": "stream",
     "text": [
      "Simulation finished.\n"
     ]
    }
   ],
   "source": [
    "# Wait for all threads to finish\n",
    "for thread in process_threads:\n",
    "    thread.join()\n",
    "\n",
    "print(\"Simulation finished.\")"
   ]
  },
  {
   "cell_type": "markdown",
   "id": "51c651e0",
   "metadata": {},
   "source": [
    "# Algoritma Wound-Wait"
   ]
  },
  {
   "cell_type": "code",
   "execution_count": 9,
   "id": "abcad2b4",
   "metadata": {},
   "outputs": [],
   "source": [
    "class ResourceManager:\n",
    "    def __init__(self, total_resources):\n",
    "        self.total_resources = total_resources\n",
    "        self.available_resources = total_resources\n",
    "        self.lock = threading.Lock()\n",
    "        \n",
    "    def request_resources(self, process_id, request):\n",
    "        with self.lock:\n",
    "            if all(request[i] <= self.available_resources[i] for i in range(len(request))):\n",
    "                self.available_resources = [self.available_resources[i] - request[i] for i in range(len(request))]\n",
    "                return True\n",
    "            else:\n",
    "                print(f\"Process {process_id} waiting for resources, performing wound-wait...\")\n",
    "                time.sleep(random.random())  # Simulate wound-wait\n",
    "                return False\n",
    "\n",
    "    def release_resources(self, release):\n",
    "        with self.lock:\n",
    "            self.available_resources = [self.available_resources[i] + release[i] for i in range(len(release))]"
   ]
  },
  {
   "cell_type": "code",
   "execution_count": 10,
   "id": "87269c74",
   "metadata": {},
   "outputs": [],
   "source": [
    "def process(resource_manager, process_id, max_claim, num_iterations):\n",
    "    for _ in range(num_iterations):\n",
    "        request = [random.randint(0, max_claim[i]) for i in range(len(max_claim))]\n",
    "        print(f\"Process {process_id} requesting resources: {request}\")\n",
    "        if resource_manager.request_resources(process_id, request):\n",
    "            print(f\"Process {process_id} got resources, performing task...\")\n",
    "            time.sleep(random.random())  # Simulate task execution\n",
    "            release = [random.randint(0, request[i]) for i in range(len(request))]\n",
    "            print(f\"Process {process_id} releasing resources: {release}\")\n",
    "            resource_manager.release_resources(release)\n",
    "        else:\n",
    "            time.sleep(random.random())  # Simulate waiting"
   ]
  },
  {
   "cell_type": "code",
   "execution_count": 11,
   "id": "ddce2dcc",
   "metadata": {},
   "outputs": [],
   "source": [
    "total_resources = [10, 5, 7]  # Example: 3 types of resources with 10, 5, and 7 units respectively\n",
    "max_claim = [[7, 3, 5], [3, 2, 2], [4, 5, 6]]  # Maximum resource claims for three processes"
   ]
  },
  {
   "cell_type": "code",
   "execution_count": 12,
   "id": "f539372c",
   "metadata": {},
   "outputs": [],
   "source": [
    "resource_manager = ResourceManager(total_resources)"
   ]
  },
  {
   "cell_type": "code",
   "execution_count": 13,
   "id": "0c310bea",
   "metadata": {},
   "outputs": [],
   "source": [
    "# Create threads for each process\n",
    "process_threads = []\n",
    "for i in range(len(max_claim)):\n",
    "    thread = threading.Thread(target=process, args=(resource_manager, i, max_claim[i], 5))  # 5 iterations per process\n",
    "    process_threads.append(thread)"
   ]
  },
  {
   "cell_type": "code",
   "execution_count": 14,
   "id": "369bf647",
   "metadata": {},
   "outputs": [
    {
     "name": "stdout",
     "output_type": "stream",
     "text": [
      "Process 0 requesting resources: [2, 2, 0]\n",
      "Process 0 got resources, performing task...\n",
      "Process 1 requesting resources: [2, 2, 2]\n",
      "Process 1 got resources, performing task...\n",
      "Process 2 requesting resources: [1, 1, 1]\n",
      "Process 2 got resources, performing task...\n",
      "Process 0 releasing resources: [2, 0, 0]\n",
      "Process 0 requesting resources: [5, 0, 1]\n",
      "Process 0 got resources, performing task...\n",
      "Process 1 releasing resources: [0, 1, 1]\n",
      "Process 1 requesting resources: [3, 1, 1]\n",
      "Process 1 waiting for resources, performing wound-wait...\n",
      "Process 0 releasing resources: [0, 0, 1]\n",
      "Process 0 requesting resources: [7, 3, 4]\n",
      "Process 0 waiting for resources, performing wound-wait...\n",
      "Process 1 requesting resources: [2, 2, 2]\n",
      "Process 2 releasing resources: [1, 1, 1]\n",
      "Process 1 waiting for resources, performing wound-wait...\n",
      "Process 0 requesting resources: [1, 0, 3]\n",
      "Process 2 requesting resources: [1, 3, 0]\n",
      "Process 0 got resources, performing task...\n",
      "Process 2 waiting for resources, performing wound-wait...\n",
      "Process 1 requesting resources: [0, 0, 0]\n",
      "Process 0 releasing resources: [0, 0, 2]\n",
      "Process 1 got resources, performing task...Process 0 requesting resources: [2, 2, 1]\n",
      "Process 0 got resources, performing task...\n",
      "\n",
      "Process 0 releasing resources: [0, 1, 1]\n",
      "Process 2 requesting resources: [4, 1, 0]\n",
      "Process 2 waiting for resources, performing wound-wait...\n",
      "Process 1 releasing resources: [0, 0, 0]\n",
      "Process 1 requesting resources: [2, 0, 1]\n",
      "Process 1 waiting for resources, performing wound-wait...\n",
      "Process 2 requesting resources: [0, 4, 4]\n",
      "Process 2 waiting for resources, performing wound-wait...\n",
      "Process 2 requesting resources: [4, 4, 0]\n",
      "Process 2 waiting for resources, performing wound-wait...\n"
     ]
    }
   ],
   "source": [
    "# Start threads\n",
    "for thread in process_threads:\n",
    "    thread.start()"
   ]
  },
  {
   "cell_type": "code",
   "execution_count": 15,
   "id": "fe136afe",
   "metadata": {},
   "outputs": [
    {
     "name": "stdout",
     "output_type": "stream",
     "text": [
      "Simulation finished.\n"
     ]
    }
   ],
   "source": [
    "# Wait for all threads to finish\n",
    "for thread in process_threads:\n",
    "    thread.join()\n",
    "\n",
    "print(\"Simulation finished.\")"
   ]
  },
  {
   "cell_type": "markdown",
   "id": "e7ba12ac",
   "metadata": {},
   "source": [
    "# Algoritma Lamport's Timestamps"
   ]
  },
  {
   "cell_type": "code",
   "execution_count": 24,
   "id": "a4b4f08c",
   "metadata": {},
   "outputs": [],
   "source": [
    "class ResourceManager:\n",
    "    def __init__(self, total_resources):\n",
    "        self.total_resources = total_resources\n",
    "        self.available_resources = total_resources\n",
    "        self.lock = threading.Lock()\n",
    "        self.timestamps = [0] * len(total_resources)\n",
    "        \n",
    "    def request_resources(self, process_id, request, timestamp):\n",
    "        with self.lock:\n",
    "            if all(request[i] <= self.available_resources[i] for i in range(len(request))):\n",
    "                if timestamp >= self.timestamps[process_id]:\n",
    "                    self.available_resources = [self.available_resources[i] - request[i] for i in range(len(request))]\n",
    "                    self.timestamps[process_id] = timestamp\n",
    "                    return True\n",
    "                else:\n",
    "                    print(f\"Process {process_id} waiting for resources due to outdated timestamp...\")\n",
    "                    return False\n",
    "            else:\n",
    "                print(f\"Process {process_id} waiting for resources...\")\n",
    "                return False\n",
    "    \n",
    "    def release_resources(self, process_id, release):\n",
    "        with self.lock:\n",
    "            self.available_resources = [self.available_resources[i] + release[i] for i in range(len(release))]"
   ]
  },
  {
   "cell_type": "code",
   "execution_count": 25,
   "id": "a8cec9cd",
   "metadata": {},
   "outputs": [],
   "source": [
    "def process(resource_manager, process_id, max_claim, num_iterations):\n",
    "    for _ in range(num_iterations):\n",
    "        request = [random.randint(0, max_claim[i]) for i in range(len(max_claim))]\n",
    "        timestamp = time.time()  # Generate Lamport timestamp\n",
    "        print(f\"Process {process_id} requesting resources with timestamp {timestamp}: {request}\")\n",
    "        if resource_manager.request_resources(process_id, request, timestamp):\n",
    "            print(f\"Process {process_id} got resources, performing task...\")\n",
    "            time.sleep(random.random())  # Simulate task execution\n",
    "            release = [random.randint(0, request[i]) for i in range(len(request))]\n",
    "            print(f\"Process {process_id} releasing resources: {release}\")\n",
    "            resource_manager.release_resources(process_id, release)\n",
    "        else:\n",
    "            time.sleep(random.random())  # Simulate waiting"
   ]
  },
  {
   "cell_type": "code",
   "execution_count": 26,
   "id": "d0c396bc",
   "metadata": {},
   "outputs": [],
   "source": [
    "total_resources = [10, 5, 7]  # Example: 3 types of resources with 10, 5, and 7 units respectively\n",
    "max_claim = [[7, 3, 5], [3, 2, 2], [4, 5, 6]]  # Maximum resource claims for three processes"
   ]
  },
  {
   "cell_type": "code",
   "execution_count": 27,
   "id": "8d86cadb",
   "metadata": {},
   "outputs": [],
   "source": [
    "resource_manager = ResourceManager(total_resources)"
   ]
  },
  {
   "cell_type": "code",
   "execution_count": 28,
   "id": "061f0637",
   "metadata": {},
   "outputs": [],
   "source": [
    "# Create threads for each process\n",
    "process_threads = []\n",
    "for i in range(len(max_claim)):\n",
    "    thread = threading.Thread(target=process, args=(resource_manager, i, max_claim[i], 5))  # 5 iterations per process\n",
    "    process_threads.append(thread)"
   ]
  },
  {
   "cell_type": "code",
   "execution_count": 29,
   "id": "c72af2c7",
   "metadata": {},
   "outputs": [
    {
     "name": "stdout",
     "output_type": "stream",
     "text": [
      "Process 0 requesting resources with timestamp 1712556942.533626: [5, 2, 4]\n",
      "Process 0 got resources, performing task...\n",
      "Process 1 requesting resources with timestamp 1712556942.535653: [0, 0, 2]\n",
      "Process 1 got resources, performing task...\n",
      "Process 2 requesting resources with timestamp 1712556942.5366404: [1, 4, 4]\n",
      "Process 2 waiting for resources...\n",
      "Process 0 releasing resources: [0, 1, 1]\n",
      "Process 0 requesting resources with timestamp 1712556942.5794828: [2, 1, 2]\n",
      "Process 0 got resources, performing task...\n",
      "Process 1 releasing resources: [0, 0, 1]\n",
      "Process 1 requesting resources with timestamp 1712556943.010746: [2, 1, 2]\n",
      "Process 1 waiting for resources...\n",
      "Process 1 requesting resources with timestamp 1712556943.1282737: [3, 2, 1]\n",
      "Process 1 got resources, performing task...\n",
      "Process 1 releasing resources: [0, 1, 0]\n",
      "Process 1 requesting resources with timestamp 1712556943.1588688: [1, 0, 1]\n",
      "Process 1 waiting for resources...\n",
      "Process 2 requesting resources with timestamp 1712556943.4022698: [0, 5, 1]\n",
      "Process 2 waiting for resources...\n",
      "Process 0 releasing resources: [0, 0, 2]\n",
      "Process 0 requesting resources with timestamp 1712556943.4528062: [1, 2, 1]\n",
      "Process 0 waiting for resources...\n",
      "Process 2 requesting resources with timestamp 1712556943.6471434: [2, 5, 5]\n",
      "Process 2 waiting for resources...\n",
      "Process 0 requesting resources with timestamp 1712556943.6625621: [3, 3, 2]\n",
      "Process 0 waiting for resources...\n",
      "Process 1 requesting resources with timestamp 1712556943.6910677: [1, 1, 2]\n",
      "Process 1 waiting for resources...\n",
      "Process 2 requesting resources with timestamp 1712556944.190578: [0, 3, 0]\n",
      "Process 2 waiting for resources...\n",
      "Process 0 requesting resources with timestamp 1712556944.2371361: [4, 0, 3]\n",
      "Process 0 waiting for resources...\n",
      "Process 2 requesting resources with timestamp 1712556944.7985418: [2, 3, 4]\n",
      "Process 2 waiting for resources...\n"
     ]
    }
   ],
   "source": [
    "# Start threads\n",
    "for thread in process_threads:\n",
    "    thread.start()"
   ]
  },
  {
   "cell_type": "code",
   "execution_count": 30,
   "id": "ef327fd9",
   "metadata": {},
   "outputs": [
    {
     "name": "stdout",
     "output_type": "stream",
     "text": [
      "Simulation finished.\n"
     ]
    }
   ],
   "source": [
    "# Wait for all threads to finish\n",
    "for thread in process_threads:\n",
    "    thread.join()\n",
    "\n",
    "print(\"Simulation finished.\")"
   ]
  }
 ],
 "metadata": {
  "kernelspec": {
   "display_name": "Python 3 (ipykernel)",
   "language": "python",
   "name": "python3"
  },
  "language_info": {
   "codemirror_mode": {
    "name": "ipython",
    "version": 3
   },
   "file_extension": ".py",
   "mimetype": "text/x-python",
   "name": "python",
   "nbconvert_exporter": "python",
   "pygments_lexer": "ipython3",
   "version": "3.11.5"
  }
 },
 "nbformat": 4,
 "nbformat_minor": 5
}
