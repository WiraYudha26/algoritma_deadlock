{
 "cells": [
  {
   "cell_type": "markdown",
   "id": "e74413bc",
   "metadata": {},
   "source": [
    "# Algoritma Banker"
   ]
  },
  {
   "cell_type": "code",
   "execution_count": 1,
   "id": "e20ff393",
   "metadata": {},
   "outputs": [],
   "source": [
    "import threading\n",
    "import time\n",
    "import random"
   ]
  },
  {
   "cell_type": "code",
   "execution_count": 2,
   "id": "402ff880",
   "metadata": {},
   "outputs": [],
   "source": [
    "class ResourceManager:\n",
    "    def __init__(self, total_resources):\n",
    "        self.total_resources = total_resources\n",
    "        self.available_resources = total_resources\n",
    "        self.lock = threading.Lock()\n",
    "\n",
    "    def request_resources(self, process_id, request):\n",
    "        with self.lock:\n",
    "            if all(request[i] <= self.available_resources[i] for i in range(len(request))):\n",
    "                self.available_resources = [self.available_resources[i] - request[i] for i in range(len(request))]\n",
    "                return True\n",
    "            else:\n",
    "                print(f\"Process {process_id} waiting for resources...\")\n",
    "                return False\n",
    "\n",
    "    def release_resources(self, process_id, release):\n",
    "        with self.lock:\n",
    "            self.available_resources = [self.available_resources[i] + release[i] for i in range(len(release))]"
   ]
  },
  {
   "cell_type": "code",
   "execution_count": 3,
   "id": "fa691836",
   "metadata": {},
   "outputs": [],
   "source": [
    "def process(resource_manager, process_id, max_claim, num_iterations):\n",
    "    for _ in range(num_iterations):\n",
    "        request = [random.randint(0, max_claim[i]) for i in range(len(max_claim))]\n",
    "        print(f\"Process {process_id} requesting resources: {request}\")\n",
    "        if resource_manager.request_resources(process_id, request):\n",
    "            print(f\"Process {process_id} got resources, performing task...\")\n",
    "            time.sleep(random.random())  # Simulate task execution\n",
    "            release = [random.randint(0, request[i]) for i in range(len(request))]\n",
    "            print(f\"Process {process_id} releasing resources: {release}\")\n",
    "            resource_manager.release_resources(process_id, release)\n",
    "        else:\n",
    "            time.sleep(random.random())  # Simulate waiting"
   ]
  },
  {
   "cell_type": "code",
   "execution_count": 4,
   "id": "ae66157f",
   "metadata": {},
   "outputs": [],
   "source": [
    "total_resources = [10, 5, 7]  # Example: 3 types of resources with 10, 5, and 7 units respectively\n",
    "max_claim = [[7, 3, 5], [3, 2, 2], [4, 5, 6]]  # Maximum resource claims for a large number of processes"
   ]
  },
  {
   "cell_type": "code",
   "execution_count": 5,
   "id": "1e87bf85",
   "metadata": {},
   "outputs": [],
   "source": [
    "resource_manager = ResourceManager(total_resources)"
   ]
  },
  {
   "cell_type": "code",
   "execution_count": 6,
   "id": "e1dbebbc",
   "metadata": {},
   "outputs": [],
   "source": [
    "# Number of processes\n",
    "num_processes = 10"
   ]
  },
  {
   "cell_type": "code",
   "execution_count": 7,
   "id": "fbfdfb62",
   "metadata": {},
   "outputs": [],
   "source": [
    "# Create threads for each process\n",
    "process_threads = []\n",
    "for i in range(num_processes):\n",
    "    thread = threading.Thread(target=process, args=(resource_manager, i, max_claim[i % len(max_claim)], 5))  # 5 iterations per process\n",
    "    process_threads.append(thread)"
   ]
  },
  {
   "cell_type": "code",
   "execution_count": 8,
   "id": "d5ffbae3",
   "metadata": {},
   "outputs": [
    {
     "name": "stdout",
     "output_type": "stream",
     "text": [
      "Process 0 requesting resources: [0, 1, 2]\n",
      "Process 0 got resources, performing task...\n",
      "Process 1 requesting resources: [3, 0, 2]\n",
      "Process 1 got resources, performing task...\n",
      "Process 2 requesting resources: [2, 5, 1]\n",
      "Process 2 waiting for resources...\n",
      "Process 3 requesting resources: [4, 0, 2]\n",
      "Process 3 got resources, performing task...\n",
      "Process 4 requesting resources: [3, 0, 1]\n",
      "Process 4 got resources, performing task...\n",
      "Process 5 requesting resources: [2, 2, 6]\n",
      "Process 5 waiting for resources...\n",
      "Process 6 requesting resources: [5, 3, 0]\n",
      "Process 6 waiting for resources...\n",
      "Process 7 requesting resources: [1, 2, 0]\n",
      "Process 7 waiting for resources...\n",
      "Process 8 requesting resources: [3, 4, 5]\n",
      "Process 8 waiting for resources...\n",
      "Process 9 requesting resources: [0, 2, 3]\n",
      "Process 9 waiting for resources...\n",
      "Process 3 releasing resources: [2, 0, 1]\n",
      "Process 3 requesting resources: [5, 1, 0]\n",
      "Process 3 waiting for resources...\n",
      "Process 2 requesting resources: [2, 4, 0]\n",
      "Process 2 got resources, performing task...\n",
      "Process 2 releasing resources: [1, 3, 0]\n",
      "Process 2 requesting resources: [4, 3, 0]\n",
      "Process 2 waiting for resources...\n",
      "Process 1 releasing resources: [2, 0, 0]\n",
      "Process 1 requesting resources: [2, 0, 1]\n",
      "Process 1 got resources, performing task...\n",
      "Process 3 requesting resources: [2, 1, 4]\n",
      "Process 3 waiting for resources...\n",
      "Process 3 requesting resources: [1, 1, 1]\n",
      "Process 3 waiting for resources...\n",
      "Process 8 requesting resources: [4, 1, 2]\n",
      "Process 8 waiting for resources...\n",
      "Process 5 requesting resources: [0, 2, 5]\n",
      "Process 5 waiting for resources...\n",
      "Process 6 requesting resources: [5, 3, 5]\n",
      "Process 6 waiting for resources...\n",
      "Process 0 releasing resources: [0, 1, 0]\n",
      "Process 0 requesting resources: [5, 3, 3]\n",
      "Process 0 waiting for resources...\n",
      "Process 3 requesting resources: [6, 3, 2]\n",
      "Process 3 waiting for resources...\n",
      "Process 2 requesting resources: [4, 5, 6]\n",
      "Process 2 waiting for resources...\n",
      "Process 7 requesting resources: [3, 2, 2]\n",
      "Process 7 waiting for resources...\n",
      "Process 7 requesting resources: [3, 2, 1]\n",
      "Process 7 waiting for resources...\n",
      "Process 5 requesting resources: [0, 1, 5]\n",
      "Process 5 waiting for resources...\n",
      "Process 9 requesting resources: [7, 1, 3]\n",
      "Process 9 waiting for resources...\n",
      "Process 8 requesting resources: [2, 2, 2]\n",
      "Process 8 waiting for resources...\n",
      "Process 4 releasing resources: [2, 0, 0]\n",
      "Process 4 requesting resources: [0, 2, 2]\n",
      "Process 4 waiting for resources...\n",
      "Process 4 requesting resources: [0, 2, 0]\n",
      "Process 4 got resources, performing task...\n",
      "Process 9 requesting resources: [7, 3, 3]\n",
      "Process 9 waiting for resources...\n",
      "Process 2 requesting resources: [1, 1, 6]\n",
      "Process 2 waiting for resources...\n",
      "Process 5 requesting resources: [4, 5, 2]\n",
      "Process 5 waiting for resources...\n",
      "Process 1 releasing resources: [2, 0, 1]\n",
      "Process 1 requesting resources: [0, 2, 1]\n",
      "Process 1 got resources, performing task...\n",
      "Process 6 requesting resources: [6, 3, 0]\n",
      "Process 6 waiting for resources...\n",
      "Process 9 requesting resources: [0, 3, 3]\n",
      "Process 9 waiting for resources...\n",
      "Process 0 requesting resources: [0, 3, 5]\n",
      "Process 0 waiting for resources...\n",
      "Process 7 requesting resources: [0, 1, 1]\n",
      "Process 7 waiting for resources...\n",
      "Process 9 requesting resources: [7, 0, 1]\n",
      "Process 9 waiting for resources...\n",
      "Process 6 requesting resources: [4, 0, 2]\n",
      "Process 6 waiting for resources...\n",
      "Process 0 requesting resources: [5, 3, 1]\n",
      "Process 0 waiting for resources...\n",
      "Process 4 releasing resources: [0, 1, 0]\n",
      "Process 4 requesting resources: [0, 0, 0]\n",
      "Process 4 got resources, performing task...\n",
      "Process 0 requesting resources: [1, 3, 1]\n",
      "Process 0 waiting for resources...\n",
      "Process 8 requesting resources: [2, 1, 6]\n",
      "Process 8 waiting for resources...\n",
      "Process 5 requesting resources: [2, 4, 5]\n",
      "Process 5 waiting for resources...\n",
      "Process 7 requesting resources: [0, 2, 1]\n",
      "Process 7 waiting for resources...\n",
      "Process 4 releasing resources: [0, 0, 0]\n",
      "Process 4 requesting resources: [0, 0, 2]\n",
      "Process 4 waiting for resources...\n",
      "Process 8 requesting resources: [0, 3, 3]\n",
      "Process 8 waiting for resources...\n",
      "Process 1 releasing resources: [0, 2, 1]\n",
      "Process 1 requesting resources: [1, 2, 2]\n",
      "Process 1 waiting for resources...\n",
      "Process 1 requesting resources: [0, 0, 0]\n",
      "Process 1 got resources, performing task...\n",
      "Process 1 releasing resources: [0, 0, 0]\n",
      "Process 6 requesting resources: [0, 0, 1]\n",
      "Process 6 got resources, performing task...\n",
      "Process 6 releasing resources: [0, 0, 1]\n"
     ]
    }
   ],
   "source": [
    "# Start threads\n",
    "for thread in process_threads:\n",
    "    thread.start()"
   ]
  },
  {
   "cell_type": "code",
   "execution_count": 9,
   "id": "c33d0f0b",
   "metadata": {},
   "outputs": [
    {
     "name": "stdout",
     "output_type": "stream",
     "text": [
      "Simulation finished.\n"
     ]
    }
   ],
   "source": [
    "# Wait for all threads to finish\n",
    "for thread in process_threads:\n",
    "    thread.join()\n",
    "\n",
    "print(\"Simulation finished.\")"
   ]
  },
  {
   "cell_type": "markdown",
   "id": "f1b2debe",
   "metadata": {},
   "source": [
    "# Algoritma Wound-Wait"
   ]
  },
  {
   "cell_type": "code",
   "execution_count": 10,
   "id": "d703b483",
   "metadata": {},
   "outputs": [],
   "source": [
    "class ResourceManager:\n",
    "    def __init__(self, total_resources):\n",
    "        self.total_resources = total_resources\n",
    "        self.available_resources = total_resources\n",
    "        self.lock = threading.Lock()\n",
    "\n",
    "    def request_resources(self, process_id, request):\n",
    "        with self.lock:\n",
    "            if all(request[i] <= self.available_resources[i] for i in range(len(request))):\n",
    "                self.available_resources = [self.available_resources[i] - request[i] for i in range(len(request))]\n",
    "                return True\n",
    "            else:\n",
    "                print(f\"Process {process_id} waiting for resources, performing wound-wait...\")\n",
    "                time.sleep(random.random())  # Simulate wound-wait\n",
    "                return False\n",
    "\n",
    "    def release_resources(self, process_id, release):\n",
    "        with self.lock:\n",
    "            self.available_resources = [self.available_resources[i] + release[i] for i in range(len(release))]"
   ]
  },
  {
   "cell_type": "code",
   "execution_count": 11,
   "id": "415d829c",
   "metadata": {},
   "outputs": [],
   "source": [
    "def process(resource_manager, process_id, max_claim, num_iterations):\n",
    "    for _ in range(num_iterations):\n",
    "        request = [random.randint(0, max_claim[i]) for i in range(len(max_claim))]\n",
    "        print(f\"Process {process_id} requesting resources: {request}\")\n",
    "        if resource_manager.request_resources(process_id, request):\n",
    "            print(f\"Process {process_id} got resources, performing task...\")\n",
    "            time.sleep(random.random())  # Simulate task execution\n",
    "            release = [random.randint(0, request[i]) for i in range(len(request))]\n",
    "            print(f\"Process {process_id} releasing resources: {release}\")\n",
    "            resource_manager.release_resources(process_id, release)\n",
    "        else:\n",
    "            time.sleep(random.random())  # Simulate waiting"
   ]
  },
  {
   "cell_type": "code",
   "execution_count": 12,
   "id": "ac6c304b",
   "metadata": {},
   "outputs": [],
   "source": [
    "total_resources = [10, 5, 7]  # Example: 3 types of resources with 10, 5, and 7 units respectively\n",
    "max_claim = [[7, 3, 5], [3, 2, 2], [4, 5, 6]]  # Maximum resource claims for a large number of processes"
   ]
  },
  {
   "cell_type": "code",
   "execution_count": 13,
   "id": "5183b30a",
   "metadata": {},
   "outputs": [],
   "source": [
    "resource_manager = ResourceManager(total_resources)"
   ]
  },
  {
   "cell_type": "code",
   "execution_count": 14,
   "id": "6a14b264",
   "metadata": {},
   "outputs": [],
   "source": [
    "# Number of processes\n",
    "num_processes = 10"
   ]
  },
  {
   "cell_type": "code",
   "execution_count": 15,
   "id": "3e2841e8",
   "metadata": {},
   "outputs": [],
   "source": [
    "# Create threads for each process\n",
    "process_threads = []\n",
    "for i in range(num_processes):\n",
    "    thread = threading.Thread(target=process, args=(resource_manager, i, max_claim[i % len(max_claim)], 5))  # 5 iterations per process\n",
    "    process_threads.append(thread)"
   ]
  },
  {
   "cell_type": "code",
   "execution_count": 16,
   "id": "35f53333",
   "metadata": {},
   "outputs": [
    {
     "name": "stdout",
     "output_type": "stream",
     "text": [
      "Process 0 requesting resources: [5, 1, 5]\n",
      "Process 0 got resources, performing task...\n",
      "Process 1 requesting resources: [1, 0, 0]\n",
      "Process 1 got resources, performing task...\n",
      "Process 2 requesting resources: [1, 5, 6]\n",
      "Process 2 waiting for resources, performing wound-wait...\n",
      "Process 3 requesting resources: [2, 2, 4]\n",
      "Process 4 requesting resources: [1, 1, 0]\n",
      "Process 5 requesting resources: [0, 5, 4]\n",
      "Process 6 requesting resources: [4, 1, 3]\n",
      "Process 7 requesting resources: [1, 1, 0]\n",
      "Process 8 requesting resources: [4, 5, 2]\n",
      "Process 9 requesting resources: [6, 3, 2]\n",
      "Process 1 releasing resources: [1, 0, 0]\n",
      "Process 3 waiting for resources, performing wound-wait...\n",
      "Process 0 releasing resources: [2, 0, 5]\n",
      "Process 2 requesting resources: [1, 4, 3]\n",
      "Process 4 got resources, performing task...\n",
      "Process 5 waiting for resources, performing wound-wait...\n",
      "Process 3 requesting resources: [0, 2, 5]\n",
      "Process 4 releasing resources: [1, 1, 0]\n",
      "Process 6 waiting for resources, performing wound-wait...\n",
      "Process 5 requesting resources: [2, 4, 4]\n",
      "Process 7 got resources, performing task...\n",
      "Process 8 waiting for resources, performing wound-wait...\n",
      "Process 9 waiting for resources, performing wound-wait...\n",
      "Process 8 requesting resources: [0, 2, 0]\n",
      "Process 6 requesting resources: [4, 3, 5]\n",
      "Process 7 releasing resources: [0, 1, 0]\n",
      "Process 1 requesting resources: [0, 0, 2]Process 0 requesting resources: [1, 2, 3]\n",
      "\n",
      "Process 2 waiting for resources, performing wound-wait...\n",
      "Process 3 got resources, performing task...Process 4 requesting resources: [2, 0, 1]\n",
      "\n",
      "Process 5 waiting for resources, performing wound-wait...\n",
      "Process 8 waiting for resources, performing wound-wait...\n",
      "Process 9 requesting resources: [4, 2, 5]\n",
      "Process 6 waiting for resources, performing wound-wait...\n",
      "Process 8 requesting resources: [1, 5, 3]\n",
      "Process 7 requesting resources: [0, 1, 1]\n",
      "Process 0 waiting for resources, performing wound-wait...\n",
      "Process 2 requesting resources: [3, 2, 1]\n",
      "Process 5 requesting resources: [0, 4, 1]\n",
      "Process 3 releasing resources: [0, 0, 4]\n",
      "Process 6 requesting resources: [3, 3, 3]\n",
      "Process 1 got resources, performing task...Process 4 waiting for resources, performing wound-wait...\n",
      "\n",
      "Process 0 requesting resources: [6, 1, 1]\n",
      "Process 9 waiting for resources, performing wound-wait...\n",
      "Process 1 releasing resources: [0, 0, 2]\n",
      "Process 4 requesting resources: [2, 2, 0]\n",
      "Process 8 waiting for resources, performing wound-wait...\n",
      "Process 9 requesting resources: [2, 1, 1]\n",
      "Process 7 waiting for resources, performing wound-wait...\n",
      "Process 2 waiting for resources, performing wound-wait...\n",
      "Process 8 requesting resources: [2, 1, 6]\n",
      "Process 5 waiting for resources, performing wound-wait...\n",
      "Process 7 requesting resources: [0, 2, 2]\n",
      "Process 3 requesting resources: [0, 0, 1]Process 6 waiting for resources, performing wound-wait...\n",
      "\n",
      "Process 5 requesting resources: [2, 2, 2]\n",
      "Process 2 requesting resources: [3, 4, 6]\n",
      "Process 0 got resources, performing task...Process 1 requesting resources: [1, 2, 1]\n",
      "Process 4 waiting for resources, performing wound-wait...\n",
      "\n",
      "Process 6 requesting resources: [3, 0, 4]\n",
      "Process 0 releasing resources: [5, 0, 0]\n",
      "Process 9 waiting for resources, performing wound-wait...\n",
      "Process 4 requesting resources: [1, 2, 1]\n",
      "Process 8 waiting for resources, performing wound-wait...\n",
      "Process 9 requesting resources: [7, 2, 5]\n",
      "Process 7 waiting for resources, performing wound-wait...\n",
      "Process 8 requesting resources: [3, 2, 4]\n",
      "Process 3 got resources, performing task...Process 5 waiting for resources, performing wound-wait...\n",
      "\n",
      "Process 2 waiting for resources, performing wound-wait...\n",
      "Process 1 waiting for resources, performing wound-wait...\n",
      "Process 3 releasing resources: [0, 0, 1]\n",
      "Process 2 requesting resources: [1, 2, 6]\n",
      "Process 6 waiting for resources, performing wound-wait...\n",
      "Process 5 requesting resources: [1, 1, 0]\n",
      "Process 7 requesting resources: [1, 1, 1]\n",
      "Process 1 requesting resources: [3, 0, 1]\n",
      "Process 0 requesting resources: [6, 0, 3]Process 4 waiting for resources, performing wound-wait...\n",
      "\n",
      "Process 6 requesting resources: [1, 2, 5]\n",
      "Process 9 waiting for resources, performing wound-wait...\n",
      "Process 4 requesting resources: [0, 1, 1]\n",
      "Process 8 waiting for resources, performing wound-wait...\n",
      "Process 9 requesting resources: [4, 2, 3]\n",
      "Process 3 requesting resources: [6, 3, 2]Process 2 waiting for resources, performing wound-wait...\n",
      "\n",
      "Process 5 got resources, performing task...\n",
      "Process 7 waiting for resources, performing wound-wait...\n",
      "Process 5 releasing resources: [1, 1, 0]\n",
      "Process 1 got resources, performing task...Process 0 waiting for resources, performing wound-wait...\n",
      "\n",
      "Process 6 waiting for resources, performing wound-wait...\n",
      "Process 7 requesting resources: [0, 0, 1]\n",
      "Process 1 releasing resources: [1, 0, 0]\n",
      "Process 4 waiting for resources, performing wound-wait...\n",
      "Process 0 requesting resources: [5, 3, 0]\n",
      "Process 9 waiting for resources, performing wound-wait...\n",
      "Process 3 waiting for resources, performing wound-wait...\n",
      "Process 7 got resources, performing task...Process 1 requesting resources: [2, 0, 0]\n",
      "Process 0 waiting for resources, performing wound-wait...\n",
      "\n",
      "Process 3 requesting resources: [4, 2, 4]\n",
      "Process 1 got resources, performing task...\n",
      "Process 3 waiting for resources, performing wound-wait...\n",
      "Process 7 releasing resources: [0, 0, 1]\n",
      "Process 1 releasing resources: [0, 0, 0]\n"
     ]
    }
   ],
   "source": [
    "# Start threads\n",
    "for thread in process_threads:\n",
    "    thread.start()"
   ]
  },
  {
   "cell_type": "code",
   "execution_count": 17,
   "id": "8f40cc88",
   "metadata": {},
   "outputs": [
    {
     "name": "stdout",
     "output_type": "stream",
     "text": [
      "Simulation finished.\n"
     ]
    }
   ],
   "source": [
    "# Wait for all threads to finish\n",
    "for thread in process_threads:\n",
    "    thread.join()\n",
    "\n",
    "print(\"Simulation finished.\")"
   ]
  },
  {
   "cell_type": "markdown",
   "id": "81509f6b",
   "metadata": {},
   "source": [
    "# Algoritma Lamport's Timestamps"
   ]
  },
  {
   "cell_type": "code",
   "execution_count": 42,
   "id": "398360a3",
   "metadata": {},
   "outputs": [],
   "source": [
    "import os\n",
    "import warnings\n",
    "warnings.filterwarnings(\"ignore\")"
   ]
  },
  {
   "cell_type": "code",
   "execution_count": 43,
   "id": "88543cbd",
   "metadata": {},
   "outputs": [],
   "source": [
    "class ResourceManager:\n",
    "    def __init__(self, total_resources):\n",
    "        self.total_resources = total_resources\n",
    "        self.available_resources = total_resources\n",
    "        self.lock = threading.Lock()\n",
    "        self.timestamps = [0] * len(total_resources)\n",
    "\n",
    "    def request_resources(self, process_id, request, timestamp):\n",
    "        with self.lock:\n",
    "            try:\n",
    "                if all(request[i] <= self.available_resources[i] for i in range(len(request))):\n",
    "                    if all(timestamp >= self.timestamps[other_id] for other_id in range(len(self.timestamps)) if other_id != process_id):\n",
    "                        self.available_resources = [self.available_resources[i] - request[i] for i in range(len(request))]\n",
    "                        self.timestamps[process_id] = timestamp\n",
    "                        return True\n",
    "                    else:\n",
    "                        print(f\"Process {process_id} waiting for resources due to Lamport timestamps...\")\n",
    "                        return False\n",
    "                else:\n",
    "                    print(f\"Process {process_id} waiting for resources...\")\n",
    "                    return False\n",
    "            except IndexError:\n",
    "                pass\n",
    "\n",
    "    def release_resources(self, process_id, release):\n",
    "        with self.lock:\n",
    "            self.available_resources = [self.available_resources[i] + release[i] for i in range(len(release))]"
   ]
  },
  {
   "cell_type": "code",
   "execution_count": 44,
   "id": "01bfd9ee",
   "metadata": {},
   "outputs": [],
   "source": [
    "def process(resource_manager, process_id, max_claim, num_iterations):\n",
    "    for _ in range(num_iterations):\n",
    "        request = [random.randint(0, max_claim[i]) for i in range(len(max_claim))]\n",
    "        timestamp = time.time()  # Generate Lamport timestamp\n",
    "        print(f\"Process {process_id} requesting resources with timestamp {timestamp}: {request}\")\n",
    "        if resource_manager.request_resources(process_id, request, timestamp):\n",
    "            print(f\"Process {process_id} got resources, performing task...\")\n",
    "            time.sleep(random.random())  # Simulate task execution\n",
    "            release = [random.randint(0, request[i]) for i in range(len(request))]\n",
    "            print(f\"Process {process_id} releasing resources: {release}\")\n",
    "            resource_manager.release_resources(process_id, release)\n",
    "        else:\n",
    "            time.sleep(random.random())  # Simulate waiting"
   ]
  },
  {
   "cell_type": "code",
   "execution_count": 45,
   "id": "d3733827",
   "metadata": {},
   "outputs": [],
   "source": [
    "total_resources = [10, 5, 7]  # Example: 3 types of resources with 10, 5, and 7 units respectively\n",
    "max_claim = [[7, 3, 5], [3, 2, 2], [4, 5, 6]]  # Maximum resource claims for a large number of processes"
   ]
  },
  {
   "cell_type": "code",
   "execution_count": 46,
   "id": "5374779b",
   "metadata": {},
   "outputs": [],
   "source": [
    "resource_manager = ResourceManager(total_resources)"
   ]
  },
  {
   "cell_type": "code",
   "execution_count": 47,
   "id": "8b308b82",
   "metadata": {},
   "outputs": [],
   "source": [
    "# Number of processes\n",
    "num_processes = 10"
   ]
  },
  {
   "cell_type": "code",
   "execution_count": 48,
   "id": "0350d233",
   "metadata": {},
   "outputs": [],
   "source": [
    "# Create threads for each process\n",
    "process_threads = []\n",
    "for i in range(num_processes):\n",
    "    thread = threading.Thread(target=process, args=(resource_manager, i, max_claim[i % len(max_claim)], 5))  # 5 iterations per process\n",
    "    process_threads.append(thread)"
   ]
  },
  {
   "cell_type": "code",
   "execution_count": 49,
   "id": "eb0edca2",
   "metadata": {},
   "outputs": [
    {
     "name": "stdout",
     "output_type": "stream",
     "text": [
      "Process 0 requesting resources with timestamp 1712558110.7764573: [2, 1, 5]\n",
      "Process 0 got resources, performing task...\n",
      "Process 1 requesting resources with timestamp 1712558110.7764573: [2, 2, 0]\n",
      "Process 1 got resources, performing task...\n",
      "Process 2 requesting resources with timestamp 1712558110.7764573: [3, 0, 2]\n",
      "Process 2 got resources, performing task...\n",
      "Process 3 requesting resources with timestamp 1712558110.7764573: [2, 3, 5]\n",
      "Process 3 waiting for resources...\n",
      "Process 4 requesting resources with timestamp 1712558110.7764573: [3, 2, 1]\n",
      "Process 4 waiting for resources...\n",
      "Process 5 requesting resources with timestamp 1712558110.782032: [2, 1, 2]\n",
      "Process 5 waiting for resources...\n",
      "Process 6 requesting resources with timestamp 1712558110.782032: [0, 3, 0]\n",
      "Process 6 waiting for resources...\n",
      "Process 7 requesting resources with timestamp 1712558110.782032: [2, 1, 1]\n",
      "Process 7 waiting for resources...\n",
      "Process 8 requesting resources with timestamp 1712558110.782032: [1, 2, 3]\n",
      "Process 8 waiting for resources...\n",
      "Process 9 requesting resources with timestamp 1712558110.782032: [5, 1, 2]\n",
      "Process 9 waiting for resources...\n",
      "Process 5 requesting resources with timestamp 1712558110.8525612: [0, 3, 4]\n",
      "Process 5 waiting for resources...\n",
      "Process 0 releasing resources: [2, 0, 4]\n",
      "Process 0 requesting resources with timestamp 1712558110.9262526: [6, 0, 3]\n",
      "Process 0 waiting for resources...\n",
      "Process 8 requesting resources with timestamp 1712558110.9511318: [1, 0, 0]\n",
      "Process 6 requesting resources with timestamp 1712558111.0961413: [2, 0, 3]\n",
      "Process 1 releasing resources: [0, 2, 0]\n",
      "Process 1 requesting resources with timestamp 1712558111.1092925: [3, 0, 1]\n",
      "Process 1 waiting for resources...\n",
      "Process 4 requesting resources with timestamp 1712558111.1323225: [0, 2, 0]\n",
      "Process 5 requesting resources with timestamp 1712558111.1429327: [3, 3, 3]\n",
      "Process 5 waiting for resources...\n",
      "Process 3 requesting resources with timestamp 1712558111.1820295: [2, 1, 0]\n",
      "Process 7 requesting resources with timestamp 1712558111.259447: [1, 1, 0]\n",
      "Process 7 waiting for resources...\n",
      "Process 8 requesting resources with timestamp 1712558111.2843487: [0, 5, 5]\n",
      "Process 8 waiting for resources...\n",
      "Process 2 releasing resources: [1, 0, 0]\n",
      "Process 2 requesting resources with timestamp 1712558111.3518977: [4, 0, 0]\n",
      "Process 2 waiting for resources...\n",
      "Process 4 requesting resources with timestamp 1712558111.3670495: [3, 0, 1]\n",
      "Process 4 waiting for resources...\n",
      "Process 0 requesting resources with timestamp 1712558111.401412: [1, 0, 0]\n",
      "Process 0 got resources, performing task...\n",
      "Process 3 requesting resources with timestamp 1712558111.4152238: [0, 1, 2]\n",
      "Process 3 waiting for resources...\n",
      "Process 9 requesting resources with timestamp 1712558111.4460256: [7, 3, 4]\n",
      "Process 9 waiting for resources...\n",
      "Process 7 requesting resources with timestamp 1712558111.4576528: [1, 0, 0]\n",
      "Process 7 waiting for resources...\n",
      "Process 8 requesting resources with timestamp 1712558111.5482783: [3, 3, 3]\n",
      "Process 8 waiting for resources...\n",
      "Process 3 requesting resources with timestamp 1712558111.6306217: [4, 3, 3]Process 5 requesting resources with timestamp 1712558111.6326568: [1, 4, 6]\n",
      "Process 5 waiting for resources...\n",
      "\n",
      "Process 3 waiting for resources...\n",
      "Process 1 requesting resources with timestamp 1712558111.6422312: [1, 0, 2]\n",
      "Process 1 waiting for resources...\n",
      "Process 5 requesting resources with timestamp 1712558111.7131152: [3, 0, 4]\n",
      "Process 5 waiting for resources...\n",
      "Process 2 requesting resources with timestamp 1712558111.7341814: [4, 0, 3]\n",
      "Process 2 waiting for resources...\n",
      "Process 2 requesting resources with timestamp 1712558111.7760105: [3, 3, 4]\n",
      "Process 2 waiting for resources...\n",
      "Process 1 requesting resources with timestamp 1712558111.9125674: [1, 1, 0]\n",
      "Process 1 waiting for resources...\n",
      "Process 6 requesting resources with timestamp 1712558111.9899683: [3, 1, 0]\n",
      "Process 6 waiting for resources...\n",
      "Process 2 requesting resources with timestamp 1712558111.9899683: [0, 0, 5]\n",
      "Process 2 waiting for resources...\n",
      "Process 9 requesting resources with timestamp 1712558111.9914985: [0, 1, 0]\n",
      "Process 8 requesting resources with timestamp 1712558112.0570567: [3, 4, 4]\n",
      "Process 8 waiting for resources...\n",
      "Process 6 requesting resources with timestamp 1712558112.1374974: [0, 2, 3]\n",
      "Process 6 waiting for resources...\n",
      "Process 4 requesting resources with timestamp 1712558112.3353062: [1, 1, 1]\n",
      "Process 4 waiting for resources...\n",
      "Process 0 releasing resources: [1, 0, 0]\n",
      "Process 0 requesting resources with timestamp 1712558112.371334: [0, 0, 2]\n",
      "Process 0 waiting for resources...\n",
      "Process 4 requesting resources with timestamp 1712558112.3948839: [2, 2, 0]\n",
      "Process 4 waiting for resources...\n",
      "Process 7 requesting resources with timestamp 1712558112.4464395: [3, 2, 1]\n",
      "Process 7 waiting for resources...\n",
      "Process 3 requesting resources with timestamp 1712558112.577978: [5, 2, 0]\n",
      "Process 3 waiting for resources...\n",
      "Process 6 requesting resources with timestamp 1712558112.727272: [4, 1, 4]\n",
      "Process 6 waiting for resources...\n",
      "Process 7 requesting resources with timestamp 1712558112.7550023: [3, 1, 1]\n",
      "Process 7 waiting for resources...\n",
      "Process 1 requesting resources with timestamp 1712558112.8136094: [3, 0, 1]\n",
      "Process 1 waiting for resources...\n",
      "Process 0 requesting resources with timestamp 1712558112.8739486: [2, 2, 1]\n",
      "Process 0 waiting for resources...\n",
      "Process 9 requesting resources with timestamp 1712558112.9606407: [2, 3, 3]\n",
      "Process 9 waiting for resources...\n",
      "Process 9 requesting resources with timestamp 1712558113.4192905: [2, 1, 1]\n",
      "Process 9 waiting for resources...\n"
     ]
    }
   ],
   "source": [
    "# Start threads\n",
    "for thread in process_threads:\n",
    "    thread.start()"
   ]
  },
  {
   "cell_type": "code",
   "execution_count": 50,
   "id": "789e17db",
   "metadata": {},
   "outputs": [
    {
     "name": "stdout",
     "output_type": "stream",
     "text": [
      "Simulation finished.\n"
     ]
    }
   ],
   "source": [
    "# Wait for all threads to finish\n",
    "for thread in process_threads:\n",
    "    thread.join()\n",
    "\n",
    "print(\"Simulation finished.\")"
   ]
  },
  {
   "cell_type": "code",
   "execution_count": 51,
   "id": "31e3b9f9",
   "metadata": {},
   "outputs": [
    {
     "data": {
      "text/plain": [
       "'nul'"
      ]
     },
     "execution_count": 51,
     "metadata": {},
     "output_type": "execute_result"
    }
   ],
   "source": [
    "# Redirecting output to null\n",
    "os.devnull"
   ]
  },
  {
   "cell_type": "code",
   "execution_count": 53,
   "id": "fa1d7f46",
   "metadata": {},
   "outputs": [],
   "source": [
    "import matplotlib.pyplot as plt"
   ]
  }
 ],
 "metadata": {
  "kernelspec": {
   "display_name": "Python 3 (ipykernel)",
   "language": "python",
   "name": "python3"
  },
  "language_info": {
   "codemirror_mode": {
    "name": "ipython",
    "version": 3
   },
   "file_extension": ".py",
   "mimetype": "text/x-python",
   "name": "python",
   "nbconvert_exporter": "python",
   "pygments_lexer": "ipython3",
   "version": "3.11.5"
  }
 },
 "nbformat": 4,
 "nbformat_minor": 5
}
