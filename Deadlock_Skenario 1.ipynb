{
 "cells": [
  {
   "cell_type": "markdown",
   "id": "f0d920f8",
   "metadata": {},
   "source": [
    "# Algoritma Banker"
   ]
  },
  {
   "cell_type": "code",
   "execution_count": 1,
   "id": "9f4bbffa",
   "metadata": {},
   "outputs": [],
   "source": [
    "import threading\n",
    "import time\n",
    "import random"
   ]
  },
  {
   "cell_type": "code",
   "execution_count": 2,
   "id": "b8a82c25",
   "metadata": {},
   "outputs": [],
   "source": [
    "class ResourceManager:\n",
    "    def __init__(self, total_resources):\n",
    "        self.total_resources = total_resources\n",
    "        self.available_resources = total_resources\n",
    "        self.lock = threading.Lock()\n",
    "\n",
    "    def request_resources(self, request):\n",
    "        with self.lock:\n",
    "            if all(request[i] <= self.available_resources[i] for i in range(len(request))):\n",
    "                self.available_resources = [self.available_resources[i] - request[i] for i in range(len(request))]\n",
    "                return True\n",
    "            else:\n",
    "                return False\n",
    "\n",
    "    def release_resources(self, release):\n",
    "        with self.lock:\n",
    "            self.available_resources = [self.available_resources[i] + release[i] for i in range(len(release))]"
   ]
  },
  {
   "cell_type": "code",
   "execution_count": 3,
   "id": "93c7e018",
   "metadata": {},
   "outputs": [],
   "source": [
    "def process(resource_manager, process_id, max_claim, num_iterations):\n",
    "    for _ in range(num_iterations):\n",
    "        request = [random.randint(0, max_claim[i]) for i in range(len(max_claim))]\n",
    "        print(f\"Process {process_id} requesting resources: {request}\")\n",
    "        if resource_manager.request_resources(request):\n",
    "            print(f\"Process {process_id} got resources, performing task...\")\n",
    "            time.sleep(random.random())  # Simulate task execution\n",
    "            release = [random.randint(0, request[i]) for i in range(len(request))]\n",
    "            print(f\"Process {process_id} releasing resources: {release}\")\n",
    "            resource_manager.release_resources(release)\n",
    "        else:\n",
    "            print(f\"Process {process_id} waiting for resources...\")\n",
    "            time.sleep(random.random())  # Simulate waiting"
   ]
  },
  {
   "cell_type": "code",
   "execution_count": 4,
   "id": "86486346",
   "metadata": {},
   "outputs": [],
   "source": [
    "total_resources = [10, 5, 7]  # Example: 3 types of resources with 10, 5, and 7 units respectively\n",
    "max_claim = [[7, 3, 5], [3, 2, 2]]  # Maximum resource claims for two processes"
   ]
  },
  {
   "cell_type": "code",
   "execution_count": 5,
   "id": "c527fd4e",
   "metadata": {},
   "outputs": [],
   "source": [
    "resource_manager = ResourceManager(total_resources)"
   ]
  },
  {
   "cell_type": "code",
   "execution_count": 6,
   "id": "bbcc26b1",
   "metadata": {},
   "outputs": [],
   "source": [
    "# Create threads for each process\n",
    "process_threads = []\n",
    "for i in range(len(max_claim)):\n",
    "    thread = threading.Thread(target=process, args=(resource_manager, i, max_claim[i], 5))  # 5 iterations per process\n",
    "    process_threads.append(thread)"
   ]
  },
  {
   "cell_type": "code",
   "execution_count": 7,
   "id": "ff362cf9",
   "metadata": {},
   "outputs": [
    {
     "name": "stdout",
     "output_type": "stream",
     "text": [
      "Process 0 requesting resources: [4, 0, 2]\n",
      "Process 0 got resources, performing task...\n",
      "Process 1 requesting resources: [1, 1, 2]\n",
      "Process 1 got resources, performing task...\n",
      "Process 1 releasing resources: [0, 1, 2]\n",
      "Process 1 requesting resources: [0, 2, 2]\n",
      "Process 1 got resources, performing task...\n",
      "Process 0 releasing resources: [1, 0, 2]\n",
      "Process 0 requesting resources: [4, 0, 5]\n",
      "Process 0 got resources, performing task...\n",
      "Process 0 releasing resources: [2, 0, 0]\n",
      "Process 0 requesting resources: [7, 2, 2]\n",
      "Process 0 waiting for resources...\n",
      "Process 0 requesting resources: [6, 1, 3]\n",
      "Process 0 waiting for resources...\n",
      "Process 1 releasing resources: [0, 2, 0]\n",
      "Process 1 requesting resources: [3, 1, 0]\n",
      "Process 1 got resources, performing task...\n",
      "Process 1 releasing resources: [1, 1, 0]\n",
      "Process 1 requesting resources: [0, 1, 0]\n",
      "Process 1 got resources, performing task...\n",
      "Process 0 requesting resources: [2, 0, 4]\n",
      "Process 0 waiting for resources...\n",
      "Process 1 releasing resources: [0, 0, 0]\n",
      "Process 1 requesting resources: [1, 2, 1]\n",
      "Process 1 waiting for resources...\n"
     ]
    }
   ],
   "source": [
    "# Start threads\n",
    "for thread in process_threads:\n",
    "    thread.start()"
   ]
  },
  {
   "cell_type": "code",
   "execution_count": 8,
   "id": "5d5a91c4",
   "metadata": {},
   "outputs": [
    {
     "name": "stdout",
     "output_type": "stream",
     "text": [
      "Simulation finished.\n"
     ]
    }
   ],
   "source": [
    "# Wait for all threads to finish\n",
    "for thread in process_threads:\n",
    "    thread.join()\n",
    "\n",
    "print(\"Simulation finished.\")"
   ]
  },
  {
   "cell_type": "markdown",
   "id": "4038bfdb",
   "metadata": {},
   "source": [
    "# Algoritma Wound-Wait"
   ]
  },
  {
   "cell_type": "code",
   "execution_count": 9,
   "id": "58ed515a",
   "metadata": {},
   "outputs": [],
   "source": [
    "class ResourceManager:\n",
    "    def __init__(self, total_resources):\n",
    "        self.total_resources = total_resources\n",
    "        self.available_resources = total_resources\n",
    "        self.lock = threading.Lock()\n",
    "\n",
    "    def request_resources(self, request):\n",
    "        with self.lock:\n",
    "            if all(request[i] <= self.available_resources[i] for i in range(len(request))):\n",
    "                self.available_resources = [self.available_resources[i] - request[i] for i in range(len(request))]\n",
    "                return True\n",
    "            else:\n",
    "                return False\n",
    "\n",
    "    def release_resources(self, release):\n",
    "        with self.lock:\n",
    "            self.available_resources = [self.available_resources[i] + release[i] for i in range(len(release))]"
   ]
  },
  {
   "cell_type": "code",
   "execution_count": 10,
   "id": "ad1b8e9a",
   "metadata": {},
   "outputs": [],
   "source": [
    "def process(resource_manager, process_id, max_claim, num_iterations):\n",
    "    for _ in range(num_iterations):\n",
    "        request = [random.randint(0, max_claim[i]) for i in range(len(max_claim))]\n",
    "        print(f\"Process {process_id} requesting resources: {request}\")\n",
    "        if resource_manager.request_resources(request):\n",
    "            print(f\"Process {process_id} got resources, performing task...\")\n",
    "            time.sleep(random.random())  # Simulate task execution\n",
    "            release = [random.randint(0, request[i]) for i in range(len(request))]\n",
    "            print(f\"Process {process_id} releasing resources: {release}\")\n",
    "            resource_manager.release_resources(release)\n",
    "        else:\n",
    "            print(f\"Process {process_id} waiting for resources, performing wound-wait...\")\n",
    "            time.sleep(random.random())  # Simulate waiting\n",
    "            if random.random() < 0.5:  # Randomly wound-wait or retry request\n",
    "                print(f\"Process {process_id} executing wound-wait...\")\n",
    "                time.sleep(random.random())  # Simulate wound-wait\n",
    "            else:\n",
    "                print(f\"Process {process_id} retrying request...\")\n",
    "                process(resource_manager, process_id, max_claim, 1)  # Retry request once"
   ]
  },
  {
   "cell_type": "code",
   "execution_count": 11,
   "id": "323ec102",
   "metadata": {},
   "outputs": [],
   "source": [
    "total_resources = [10, 5, 7]  # Example: 3 types of resources with 10, 5, and 7 units respectively\n",
    "max_claim = [[7, 3, 5], [3, 2, 2]]  # Maximum resource claims for two processes"
   ]
  },
  {
   "cell_type": "code",
   "execution_count": 12,
   "id": "68a20ff0",
   "metadata": {},
   "outputs": [],
   "source": [
    "resource_manager = ResourceManager(total_resources)"
   ]
  },
  {
   "cell_type": "code",
   "execution_count": 13,
   "id": "43fdb13a",
   "metadata": {},
   "outputs": [],
   "source": [
    "# Create threads for each process\n",
    "process_threads = []\n",
    "for i in range(len(max_claim)):\n",
    "    thread = threading.Thread(target=process, args=(resource_manager, i, max_claim[i], 5))  # 5 iterations per process\n",
    "    process_threads.append(thread)"
   ]
  },
  {
   "cell_type": "code",
   "execution_count": 14,
   "id": "df930b83",
   "metadata": {},
   "outputs": [
    {
     "name": "stdout",
     "output_type": "stream",
     "text": [
      "Process 0 requesting resources: [0, 3, 1]\n",
      "Process 0 got resources, performing task...\n",
      "Process 1 requesting resources: [3, 0, 0]\n",
      "Process 1 got resources, performing task...\n",
      "Process 1 releasing resources: [2, 0, 0]\n",
      "Process 1 requesting resources: [2, 1, 0]\n",
      "Process 1 got resources, performing task...\n",
      "Process 0 releasing resources: [0, 3, 1]\n",
      "Process 0 requesting resources: [4, 2, 3]\n",
      "Process 0 got resources, performing task...\n",
      "Process 1 releasing resources: [0, 0, 0]\n",
      "Process 1 requesting resources: [1, 2, 1]\n",
      "Process 1 got resources, performing task...\n",
      "Process 1 releasing resources: [1, 1, 1]\n",
      "Process 1 requesting resources: [2, 0, 1]\n",
      "Process 1 got resources, performing task...\n",
      "Process 1 releasing resources: [0, 0, 1]\n",
      "Process 1 requesting resources: [1, 1, 2]\n",
      "Process 1 got resources, performing task...\n",
      "Process 0 releasing resources: [3, 1, 1]\n",
      "Process 0 requesting resources: [5, 1, 4]\n",
      "Process 0 waiting for resources, performing wound-wait...\n",
      "Process 0 executing wound-wait...\n",
      "Process 1 releasing resources: [0, 1, 0]\n",
      "Process 0 requesting resources: [1, 0, 4]\n",
      "Process 0 waiting for resources, performing wound-wait...\n",
      "Process 0 retrying request...\n",
      "Process 0 requesting resources: [1, 3, 0]\n",
      "Process 0 waiting for resources, performing wound-wait...\n",
      "Process 0 executing wound-wait...\n",
      "Process 0 requesting resources: [0, 3, 3]\n",
      "Process 0 waiting for resources, performing wound-wait...\n",
      "Process 0 retrying request...\n",
      "Process 0 requesting resources: [5, 1, 3]\n",
      "Process 0 waiting for resources, performing wound-wait...\n",
      "Process 0 retrying request...\n",
      "Process 0 requesting resources: [4, 3, 1]\n",
      "Process 0 waiting for resources, performing wound-wait...\n",
      "Process 0 retrying request...\n",
      "Process 0 requesting resources: [7, 1, 4]\n",
      "Process 0 waiting for resources, performing wound-wait...\n",
      "Process 0 executing wound-wait...\n"
     ]
    }
   ],
   "source": [
    "# Start threads\n",
    "for thread in process_threads:\n",
    "    thread.start()"
   ]
  },
  {
   "cell_type": "code",
   "execution_count": 15,
   "id": "67e43d0a",
   "metadata": {},
   "outputs": [
    {
     "name": "stdout",
     "output_type": "stream",
     "text": [
      "Simulation finished.\n"
     ]
    }
   ],
   "source": [
    "# Wait for all threads to finish\n",
    "for thread in process_threads:\n",
    "    thread.join()\n",
    "\n",
    "print(\"Simulation finished.\")"
   ]
  },
  {
   "cell_type": "markdown",
   "id": "bb2d50f3",
   "metadata": {},
   "source": [
    "# Algoritma Lamport's Timestamps"
   ]
  },
  {
   "cell_type": "code",
   "execution_count": 16,
   "id": "3be5389d",
   "metadata": {},
   "outputs": [],
   "source": [
    "class ResourceManager:\n",
    "    def __init__(self, total_resources):\n",
    "        self.total_resources = total_resources\n",
    "        self.available_resources = total_resources\n",
    "        self.lock = threading.Lock()\n",
    "\n",
    "    def request_resources(self, request, timestamp):\n",
    "        with self.lock:\n",
    "            if all(request[i] <= self.available_resources[i] for i in range(len(request))):\n",
    "                self.available_resources = [self.available_resources[i] - request[i] for i in range(len(request))]\n",
    "                return True\n",
    "            else:\n",
    "                return False\n",
    "\n",
    "    def release_resources(self, release):\n",
    "        with self.lock:\n",
    "            self.available_resources = [self.available_resources[i] + release[i] for i in range(len(release))]"
   ]
  },
  {
   "cell_type": "code",
   "execution_count": 17,
   "id": "238d00c1",
   "metadata": {},
   "outputs": [],
   "source": [
    "def process(resource_manager, process_id, max_claim, num_iterations):\n",
    "    for _ in range(num_iterations):\n",
    "        request = [random.randint(0, max_claim[i]) for i in range(len(max_claim))]\n",
    "        timestamp = time.time()  # Generate Lamport timestamp\n",
    "        print(f\"Process {process_id} requesting resources with timestamp {timestamp}: {request}\")\n",
    "        if resource_manager.request_resources(request, timestamp):\n",
    "            print(f\"Process {process_id} got resources, performing task...\")\n",
    "            time.sleep(random.random())  # Simulate task execution\n",
    "            release = [random.randint(0, request[i]) for i in range(len(request))]\n",
    "            print(f\"Process {process_id} releasing resources: {release}\")\n",
    "            resource_manager.release_resources(release)\n",
    "        else:\n",
    "            print(f\"Process {process_id} waiting for resources...\")\n",
    "            time.sleep(random.random())  # Simulate waiting"
   ]
  },
  {
   "cell_type": "code",
   "execution_count": 18,
   "id": "e506a8f3",
   "metadata": {},
   "outputs": [],
   "source": [
    "total_resources = [10, 5, 7]  # Example: 3 types of resources with 10, 5, and 7 units respectively\n",
    "max_claim = [[7, 3, 5], [3, 2, 2]]  # Maximum resource claims for two processes"
   ]
  },
  {
   "cell_type": "code",
   "execution_count": 19,
   "id": "554ae843",
   "metadata": {},
   "outputs": [],
   "source": [
    "resource_manager = ResourceManager(total_resources)"
   ]
  },
  {
   "cell_type": "code",
   "execution_count": 20,
   "id": "ff5e510a",
   "metadata": {},
   "outputs": [],
   "source": [
    "# Create threads for each process\n",
    "process_threads = []\n",
    "for i in range(len(max_claim)):\n",
    "    thread = threading.Thread(target=process, args=(resource_manager, i, max_claim[i], 5))  # 5 iterations per process\n",
    "    process_threads.append(thread)"
   ]
  },
  {
   "cell_type": "code",
   "execution_count": 21,
   "id": "6c3ce626",
   "metadata": {},
   "outputs": [
    {
     "name": "stdout",
     "output_type": "stream",
     "text": [
      "Process 0 requesting resources with timestamp 1712555652.3010666: [6, 2, 1]\n",
      "Process 0 got resources, performing task...\n",
      "Process 1 requesting resources with timestamp 1712555652.3040845: [2, 1, 0]\n",
      "Process 1 got resources, performing task...\n",
      "Process 1 releasing resources: [0, 1, 0]\n",
      "Process 1 requesting resources with timestamp 1712555652.3110707: [3, 0, 0]\n",
      "Process 1 waiting for resources...\n",
      "Process 1 requesting resources with timestamp 1712555652.4532065: [3, 0, 2]\n",
      "Process 1 waiting for resources...\n",
      "Process 1 requesting resources with timestamp 1712555652.768146: [2, 0, 1]\n",
      "Process 1 got resources, performing task...\n",
      "Process 0 releasing resources: [2, 0, 1]\n",
      "Process 0 requesting resources with timestamp 1712555652.7756326: [1, 1, 2]\n",
      "Process 0 got resources, performing task...\n",
      "Process 0 releasing resources: [1, 1, 2]\n",
      "Process 0 requesting resources with timestamp 1712555653.712157: [0, 3, 1]\n",
      "Process 0 got resources, performing task...\n",
      "Process 1 releasing resources: [1, 0, 1]\n",
      "Process 1 requesting resources with timestamp 1712555653.755566: [0, 0, 2]\n",
      "Process 1 got resources, performing task...\n",
      "Process 1 releasing resources: [0, 0, 0]\n",
      "Process 0 releasing resources: [0, 1, 1]\n",
      "Process 0 requesting resources with timestamp 1712555654.2587008: [7, 2, 5]\n",
      "Process 0 waiting for resources...\n",
      "Process 0 requesting resources with timestamp 1712555654.465153: [7, 0, 5]\n",
      "Process 0 waiting for resources...\n"
     ]
    }
   ],
   "source": [
    "# Start threads\n",
    "for thread in process_threads:\n",
    "    thread.start()"
   ]
  },
  {
   "cell_type": "code",
   "execution_count": 22,
   "id": "5af0dbd0",
   "metadata": {},
   "outputs": [
    {
     "name": "stdout",
     "output_type": "stream",
     "text": [
      "Simulation finished.\n"
     ]
    }
   ],
   "source": [
    "# Wait for all threads to finish\n",
    "for thread in process_threads:\n",
    "    thread.join()\n",
    "\n",
    "print(\"Simulation finished.\")"
   ]
  },
  {
   "cell_type": "markdown",
   "id": "bbc1dd07",
   "metadata": {},
   "source": [
    "# Penjelasan"
   ]
  },
  {
   "cell_type": "code",
   "execution_count": 23,
   "id": "421f7952",
   "metadata": {},
   "outputs": [],
   "source": [
    "# - \"requesting\" artinya proses sedang meminta sumber daya dari ResourceManager.\n",
    "# - \"got resources\" artinya proses berhasil mendapatkan sumber daya yang diminta dari ResourceManager.\n",
    "# - \"releasing\" artinya proses sedang melepaskan sumber daya yang sedang digunakan.\n",
    "# - \"waiting for resources\" artinya proses harus menunggu karena sumber daya yang diminta tidak tersedia.\n",
    "\n",
    "# - \"waiting for resources, performing wound-wait\" artinya proses harus menunggu karena sumber daya yang diminta tidak tersedia, dan proses menjalankan algoritma wound-wait untuk menangani deadlock.\n",
    "# - \"executing wound-wait\" artinya proses sedang menjalankan algoritma wound-wait.\n",
    "# - \"retrying request\" artinya proses mencoba kembali permintaan sumber daya setelah melakukan wound-wait.\n",
    "\n",
    "# - Timestamp ini mengikuti format umum yang digunakan dalam sistem komputer, di mana bagian pertama (1712555652) adalah jumlah detik yang telah berlalu sejak 1 Januari 1970 (Unix Epoch), dan bagian kedua (.3110707) adalah fraksi dari detik yang telah berlalu sejak saat timestamp tersebut direkam."
   ]
  }
 ],
 "metadata": {
  "kernelspec": {
   "display_name": "Python 3 (ipykernel)",
   "language": "python",
   "name": "python3"
  },
  "language_info": {
   "codemirror_mode": {
    "name": "ipython",
    "version": 3
   },
   "file_extension": ".py",
   "mimetype": "text/x-python",
   "name": "python",
   "nbconvert_exporter": "python",
   "pygments_lexer": "ipython3",
   "version": "3.11.5"
  }
 },
 "nbformat": 4,
 "nbformat_minor": 5
}
